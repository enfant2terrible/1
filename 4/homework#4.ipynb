{
 "cells": [
  {
   "cell_type": "code",
   "execution_count": 9,
   "id": "ae92cb72-4108-40c3-96bb-1aebc8be6cf4",
   "metadata": {},
   "outputs": [],
   "source": [
    "import pandas as pd\n",
    "import sqlite3"
   ]
  },
  {
   "cell_type": "code",
   "execution_count": 24,
   "id": "dbac6521-1a1f-4fee-a4dc-b5dd8d76ba41",
   "metadata": {},
   "outputs": [],
   "source": [
    "cur = sqlite3.connect ('EmployeePoints.db')"
   ]
  },
  {
   "cell_type": "code",
   "execution_count": 25,
   "id": "31377e9a-b2fc-4ca2-ad94-9aaecce74acc",
   "metadata": {},
   "outputs": [
    {
     "data": {
      "text/plain": [
       "[('Маша', 5, '2020-01-01'),\n",
       " ('Петя', 4, '2020-01-01'),\n",
       " ('Вася', 3, '2020-01-01'),\n",
       " ('Саша', 4, '2020-01-01'),\n",
       " ('Маша', 4, '2020-01-02'),\n",
       " ('Петя', 4, '2020-01-02'),\n",
       " ('Вася', 4, '2020-01-02'),\n",
       " ('Саша', 5, '2020-01-02'),\n",
       " ('Маша', 5, '2020-01-03'),\n",
       " ('Петя', 3, '2020-01-03'),\n",
       " ('Вася', 2, '2020-01-03'),\n",
       " ('Саша', 5, '2020-01-03'),\n",
       " ('Маша', 3, '2020-01-04'),\n",
       " ('Петя', 3, '2020-01-04'),\n",
       " ('Вася', 3, '2020-01-04'),\n",
       " ('Саша', 3, '2020-01-04'),\n",
       " ('Максим', 2, '2020-01-04'),\n",
       " ('Маша', 5, '2020-01-05'),\n",
       " ('Петя', 3, '2020-01-05'),\n",
       " ('Вася', 3, '2020-01-05'),\n",
       " ('Саша', 3, '2020-01-05')]"
      ]
     },
     "execution_count": 25,
     "metadata": {},
     "output_type": "execute_result"
    }
   ],
   "source": [
    "cur.execute ('select * from EmployeePoints').fetchall ()"
   ]
  },
  {
   "cell_type": "code",
   "execution_count": 27,
   "id": "9afa138d-05f5-4a96-840d-509ffcdc43bf",
   "metadata": {},
   "outputs": [
    {
     "data": {
      "text/plain": [
       "[('Маша',), ('Петя',), ('Вася',), ('Саша',), ('Максим',)]"
      ]
     },
     "execution_count": 27,
     "metadata": {},
     "output_type": "execute_result"
    }
   ],
   "source": [
    "#SELECT, который выводит список уникальных имен сотрудников\n",
    "cur.execute(\"select distinct Employee from EmployeePoints\").fetchall ()"
   ]
  },
  {
   "cell_type": "code",
   "execution_count": 28,
   "id": "7219d1de-210f-441d-bc37-3515f52c631f",
   "metadata": {},
   "outputs": [
    {
     "data": {
      "text/plain": [
       "[('Маша', 3), ('Саша', 2)]"
      ]
     },
     "execution_count": 28,
     "metadata": {},
     "output_type": "execute_result"
    }
   ],
   "source": [
    "# SELECT, который выводит список сотрудников, упорядоченный по количеству полученных оценок \"5\", начиная с сотрудника, который получил их максимальное количество\n",
    "cur.execute(\"select Employee, count(*) from EmployeePoints where Point = 5 group by Employee order by count(*) desc\").fetchall()"
   ]
  },
  {
   "cell_type": "code",
   "execution_count": 29,
   "id": "aa768d1e-80f1-470e-a9b3-b411b7d8dfbe",
   "metadata": {},
   "outputs": [],
   "source": [
    "#Конец"
   ]
  },
  {
   "cell_type": "code",
   "execution_count": null,
   "id": "5bbe3ca2-4e60-443e-bd6a-8c576ff096cd",
   "metadata": {},
   "outputs": [],
   "source": []
  }
 ],
 "metadata": {
  "kernelspec": {
   "display_name": "Python 3",
   "language": "python",
   "name": "python3"
  },
  "language_info": {
   "codemirror_mode": {
    "name": "ipython",
    "version": 3
   },
   "file_extension": ".py",
   "mimetype": "text/x-python",
   "name": "python",
   "nbconvert_exporter": "python",
   "pygments_lexer": "ipython3",
   "version": "3.8.8"
  }
 },
 "nbformat": 4,
 "nbformat_minor": 5
}
